{
 "cells": [
  {
   "cell_type": "markdown",
   "metadata": {},
   "source": [
    "# Analysis\n",
    "Adjust as needed for project versions and testing"
   ]
  },
  {
   "cell_type": "markdown",
   "metadata": {},
   "source": [
    "## Imports"
   ]
  },
  {
   "cell_type": "code",
   "execution_count": null,
   "metadata": {},
   "outputs": [],
   "source": [
    "import numpy as np\n",
    "import pandas as pd\n",
    "import matplotlib.pyplot as plt\n",
    "\n",
    "import librosa as lb\n",
    "import soundfile as sf\n",
    "import tensorflow as tf\n",
    "\n",
    "import pickle\n",
    "import os\n",
    "import json\n"
   ]
  },
  {
   "cell_type": "markdown",
   "metadata": {},
   "source": [
    "## Parameters"
   ]
  },
  {
   "cell_type": "code",
   "execution_count": null,
   "metadata": {},
   "outputs": [],
   "source": [
    "sampleRate = 44100\n",
    "channels = 1"
   ]
  },
  {
   "cell_type": "markdown",
   "metadata": {},
   "source": [
    "## Functions"
   ]
  },
  {
   "cell_type": "code",
   "execution_count": null,
   "metadata": {},
   "outputs": [],
   "source": [
    "def compareWaves(dry, wet, pred, offset, start, stop, plotName, save = False):\n",
    "    plt.figure(figsize=(10, 6))\n",
    "    plt.plot(dry[start+offset:stop+offset])\n",
    "    plt.plot(wet[start+offset:stop+offset])\n",
    "    plt.plot(pred[start:stop])\n",
    "    plt.legend(['Input', 'Actual', 'Predicted'])\n",
    "    plt.title(\"Input, Actual, and Predicted Signals\")\n",
    "    plt.xlabel(\"Samples\")\n",
    "    if save:\n",
    "        #need to make a plot directory\n",
    "        plt.savefig(f\"../Images{plotName}.png\")\n",
    "    else:\n",
    "        plt.show()\n",
    "        \n",
    "def trainValLoss(history, plotName, save = False):\n",
    "    plt.figure(figsize=(10, 6))\n",
    "    loss = history[\"loss\"]\n",
    "    valLoss = history[\"val_loss\"]\n",
    "    plt.plot(loss, label='Training Loss')\n",
    "    plt.plot(valLoss, label='Validation Loss', linestyle='--')\n",
    "    plt.legend()\n",
    "    plt.grid()\n",
    "    plt.title('Training vs Validation Loss')\n",
    "    plt.xlabel('Epochs')\n",
    "    plt.ylabel('Loss')\n",
    "    if save:\n",
    "        #need to make a plot directory\n",
    "        plt.savefig(f\"../Images{plotName}.png\")\n",
    "    else:\n",
    "        plt.show()"
   ]
  },
  {
   "cell_type": "markdown",
   "metadata": {},
   "source": [
    "## Execute"
   ]
  },
  {
   "cell_type": "markdown",
   "metadata": {},
   "source": []
  }
 ],
 "metadata": {
  "language_info": {
   "name": "python"
  }
 },
 "nbformat": 4,
 "nbformat_minor": 2
}
